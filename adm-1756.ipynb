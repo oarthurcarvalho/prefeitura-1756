{
 "cells": [
  {
   "cell_type": "code",
   "execution_count": 1,
   "metadata": {},
   "outputs": [],
   "source": [
    "import basedosdados as bd"
   ]
  },
  {
   "cell_type": "code",
   "execution_count": 1,
   "metadata": {},
   "outputs": [
    {
     "name": "stdout",
     "output_type": "stream",
     "text": [
      "servico-1756\n",
      "\n"
     ]
    }
   ],
   "source": [
    "def get_billing_project():\n",
    "    with open('data.txt', 'r') as file:\n",
    "        billing_project_id = file.readline()\n",
    "        return billing_project_id"
   ]
  },
  {
   "cell_type": "code",
   "execution_count": 2,
   "metadata": {},
   "outputs": [
    {
     "name": "stderr",
     "output_type": "stream",
     "text": [
      "Downloading: 100%|██████████| 485966/485966 [03:42<00:00, 2188.72rows/s]\n"
     ]
    }
   ],
   "source": [
    "df = bd.read_sql ( \"SELECT *  FROM `datario.administracao_servicos_publicos.chamado_1746` WHERE data_inicio BETWEEN '2023-02-01' AND '2023-08-31'\", \n",
    "                  billing_project_id = \"get_billing_project\" )"
   ]
  },
  {
   "cell_type": "code",
   "execution_count": 3,
   "metadata": {},
   "outputs": [
    {
     "data": {
      "text/plain": [
       "(485966, 32)"
      ]
     },
     "execution_count": 3,
     "metadata": {},
     "output_type": "execute_result"
    }
   ],
   "source": [
    "df.shape"
   ]
  },
  {
   "cell_type": "code",
   "execution_count": 10,
   "metadata": {},
   "outputs": [
    {
     "name": "stdout",
     "output_type": "stream",
     "text": [
      "<class 'pandas.core.frame.DataFrame'>\n",
      "RangeIndex: 485966 entries, 0 to 485965\n",
      "Data columns (total 32 columns):\n",
      " #   Column                            Non-Null Count   Dtype         \n",
      "---  ------                            --------------   -----         \n",
      " 0   id_chamado                        485966 non-null  object        \n",
      " 1   data_inicio                       485966 non-null  datetime64[ns]\n",
      " 2   data_fim                          367871 non-null  datetime64[ns]\n",
      " 3   id_bairro                         459619 non-null  object        \n",
      " 4   id_territorialidade               459619 non-null  object        \n",
      " 5   id_logradouro                     459619 non-null  object        \n",
      " 6   numero_logradouro                 423304 non-null  Int64         \n",
      " 7   id_unidade_organizacional         485966 non-null  object        \n",
      " 8   nome_unidade_organizacional       485966 non-null  object        \n",
      " 9   id_unidade_organizacional_mae     485966 non-null  object        \n",
      " 10  unidade_organizacional_ouvidoria  485966 non-null  object        \n",
      " 11  categoria                         485966 non-null  object        \n",
      " 12  id_tipo                           485966 non-null  object        \n",
      " 13  tipo                              485966 non-null  object        \n",
      " 14  id_subtipo                        485966 non-null  object        \n",
      " 15  subtipo                           485966 non-null  object        \n",
      " 16  status                            485966 non-null  object        \n",
      " 17  longitude                         310032 non-null  float64       \n",
      " 18  latitude                          310032 non-null  float64       \n",
      " 19  data_alvo_finalizacao             476605 non-null  datetime64[ns]\n",
      " 20  data_alvo_diagnostico             12258 non-null   datetime64[ns]\n",
      " 21  data_real_diagnostico             9441 non-null    datetime64[ns]\n",
      " 22  tempo_prazo                       0 non-null       Int64         \n",
      " 23  prazo_unidade                     484929 non-null  object        \n",
      " 24  prazo_tipo                        484929 non-null  object        \n",
      " 25  dentro_prazo                      485966 non-null  object        \n",
      " 26  situacao                          485966 non-null  object        \n",
      " 27  tipo_situacao                     485966 non-null  object        \n",
      " 28  justificativa_status              1 non-null       object        \n",
      " 29  reclamacoes                       485966 non-null  Int64         \n",
      " 30  data_particao                     485966 non-null  dbdate        \n",
      " 31  geometry                          310032 non-null  object        \n",
      "dtypes: Int64(3), datetime64[ns](5), dbdate(1), float64(2), object(21)\n",
      "memory usage: 120.0+ MB\n"
     ]
    }
   ],
   "source": [
    "df.info()"
   ]
  },
  {
   "cell_type": "code",
   "execution_count": 11,
   "metadata": {},
   "outputs": [],
   "source": [
    "df1 = df.copy()\n",
    "\n",
    "df1['id_territorialidade'] = df1['id_territorialidade'].astype('category')\n",
    "df1['id_bairro'] = df1['id_bairro'].astype('category')\n",
    "df1['status'] = df1['status'].astype('category')\n",
    "df1['tipo_situacao'] = df1['tipo_situacao'].astype('category')\n",
    "df1['situacao'] = df1['situacao'].astype('category')\n",
    "df1['prazo_tipo'] = df1['prazo_tipo'].astype('category')\n",
    "df1['prazo_unidade'] = df1['prazo_unidade'].astype('category')\n",
    "df1['dentro_prazo'] = df1['dentro_prazo'].astype('category')\n",
    "df1['justificativa_status'] = df1['justificativa_status'].astype('category')\n",
    "df1['id_unidade_organizacional_mae'] = df1['id_unidade_organizacional_mae'].astype('category')\n",
    "df1 = df1.drop(['unidade_organizacional_ouvidoria', 'categoria', 'id_tipo', 'id_subtipo'], axis=1)"
   ]
  },
  {
   "cell_type": "code",
   "execution_count": 12,
   "metadata": {},
   "outputs": [
    {
     "data": {
      "text/plain": [
       "<DateArray>\n",
       "[datetime.date(2023, 8, 1), datetime.date(2023, 6, 1),\n",
       " datetime.date(2023, 4, 1), datetime.date(2023, 2, 1),\n",
       " datetime.date(2023, 5, 1), datetime.date(2023, 3, 1),\n",
       " datetime.date(2023, 7, 1)]\n",
       "Length: 7, dtype: dbdate"
      ]
     },
     "execution_count": 12,
     "metadata": {},
     "output_type": "execute_result"
    }
   ],
   "source": [
    "df['data_particao'].unique()"
   ]
  },
  {
   "cell_type": "code",
   "execution_count": null,
   "metadata": {},
   "outputs": [],
   "source": []
  }
 ],
 "metadata": {
  "kernelspec": {
   "display_name": "ds-study",
   "language": "python",
   "name": "python3"
  },
  "language_info": {
   "codemirror_mode": {
    "name": "ipython",
    "version": 3
   },
   "file_extension": ".py",
   "mimetype": "text/x-python",
   "name": "python",
   "nbconvert_exporter": "python",
   "pygments_lexer": "ipython3",
   "version": "3.10.9"
  },
  "orig_nbformat": 4
 },
 "nbformat": 4,
 "nbformat_minor": 2
}
